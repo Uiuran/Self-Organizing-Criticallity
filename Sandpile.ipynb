{
 "cells": [
  {
   "cell_type": "markdown",
   "metadata": {
    "toc": true
   },
   "source": [
    "<h1>Table of Contents<span class=\"tocSkip\"></span></h1>\n",
    "<div class=\"toc\"><ul class=\"toc-item\"></ul></div>"
   ]
  },
  {
   "cell_type": "code",
   "execution_count": 1,
   "metadata": {},
   "outputs": [],
   "source": [
    "import numpy as np\n",
    "import matplotlib.pyplot as plt"
   ]
  },
  {
   "cell_type": "code",
   "execution_count": 3,
   "metadata": {},
   "outputs": [],
   "source": [
    "class SelfOrganizedCriticality:\n",
    "    \n",
    "\n",
    "\n",
    "  def regra_dinamica(self, pile_height, max_height):\n",
    "    if pile_height > max_height:\n",
    "      _applies_dynamical_sys(self)\n",
    "    else:\n",
    "      _sum_up_piles(self)\n",
    "    \n",
    "  def boundarie_cond(dim1bounds,dim2bounds):\n",
    "    pass"
   ]
  },
  {
   "cell_type": "code",
   "execution_count": 45,
   "metadata": {},
   "outputs": [
    {
     "ename": "IndexError",
     "evalue": "too many indices for array",
     "output_type": "error",
     "traceback": [
      "\u001b[0;31m---------------------------------------------------------------------------\u001b[0m",
      "\u001b[0;31mIndexError\u001b[0m                                Traceback (most recent call last)",
      "\u001b[0;32m<ipython-input-45-5d7e80d4cb73>\u001b[0m in \u001b[0;36m<module>\u001b[0;34m()\u001b[0m\n\u001b[1;32m     32\u001b[0m \u001b[0;34m\u001b[0m\u001b[0m\n\u001b[1;32m     33\u001b[0m       \u001b[0;32mfor\u001b[0m \u001b[0mj\u001b[0m \u001b[0;32min\u001b[0m \u001b[0mrange\u001b[0m\u001b[0;34m(\u001b[0m\u001b[0mlen\u001b[0m\u001b[0;34m(\u001b[0m\u001b[0mindexdiff\u001b[0m\u001b[0;34m)\u001b[0m\u001b[0;34m)\u001b[0m\u001b[0;34m:\u001b[0m\u001b[0;34m\u001b[0m\u001b[0m\n\u001b[0;32m---> 34\u001b[0;31m         \u001b[0mdomain\u001b[0m\u001b[0;34m[\u001b[0m\u001b[0mindexdiff\u001b[0m\u001b[0;34m[\u001b[0m\u001b[0mj\u001b[0m\u001b[0;34m,\u001b[0m\u001b[0;36m0\u001b[0m\u001b[0;34m]\u001b[0m\u001b[0;34m,\u001b[0m\u001b[0mindexdiff\u001b[0m\u001b[0;34m[\u001b[0m\u001b[0mj\u001b[0m\u001b[0;34m,\u001b[0m\u001b[0;36m1\u001b[0m\u001b[0;34m]\u001b[0m\u001b[0;34m]\u001b[0m \u001b[0;34m=\u001b[0m \u001b[0mdomain\u001b[0m\u001b[0;34m[\u001b[0m\u001b[0mindexdiff\u001b[0m\u001b[0;34m[\u001b[0m\u001b[0mj\u001b[0m\u001b[0;34m,\u001b[0m\u001b[0;36m0\u001b[0m\u001b[0;34m]\u001b[0m\u001b[0;34m,\u001b[0m\u001b[0mindexdiff\u001b[0m\u001b[0;34m[\u001b[0m\u001b[0mj\u001b[0m\u001b[0;34m,\u001b[0m\u001b[0;36m1\u001b[0m\u001b[0;34m]\u001b[0m\u001b[0;34m]\u001b[0m \u001b[0;34m-\u001b[0m \u001b[0mdiff\u001b[0m\u001b[0;34m[\u001b[0m\u001b[0mindexdiff\u001b[0m\u001b[0;34m[\u001b[0m\u001b[0mj\u001b[0m\u001b[0;34m,\u001b[0m\u001b[0;36m0\u001b[0m\u001b[0;34m]\u001b[0m\u001b[0;34m,\u001b[0m\u001b[0mindexdiff\u001b[0m\u001b[0;34m[\u001b[0m\u001b[0mj\u001b[0m\u001b[0;34m,\u001b[0m\u001b[0;36m1\u001b[0m\u001b[0;34m]\u001b[0m\u001b[0;34m]\u001b[0m\u001b[0;34m\u001b[0m\u001b[0m\n\u001b[0m\u001b[1;32m     35\u001b[0m \u001b[0;34m\u001b[0m\u001b[0m\n\u001b[1;32m     36\u001b[0m         \u001b[0;32mfor\u001b[0m \u001b[0mz\u001b[0m \u001b[0;32min\u001b[0m \u001b[0mrange\u001b[0m\u001b[0;34m(\u001b[0m\u001b[0mlen\u001b[0m\u001b[0;34m(\u001b[0m\u001b[0mdiff\u001b[0m\u001b[0;34m[\u001b[0m\u001b[0mindexdiff\u001b[0m\u001b[0;34m[\u001b[0m\u001b[0mj\u001b[0m\u001b[0;34m,\u001b[0m\u001b[0;36m0\u001b[0m\u001b[0;34m]\u001b[0m\u001b[0;34m,\u001b[0m\u001b[0mindexdiff\u001b[0m\u001b[0;34m[\u001b[0m\u001b[0mj\u001b[0m\u001b[0;34m,\u001b[0m\u001b[0;36m1\u001b[0m\u001b[0;34m]\u001b[0m\u001b[0;34m]\u001b[0m\u001b[0;34m)\u001b[0m\u001b[0;34m)\u001b[0m\u001b[0;34m:\u001b[0m\u001b[0;34m\u001b[0m\u001b[0m\n",
      "\u001b[0;31mIndexError\u001b[0m: too many indices for array"
     ]
    }
   ],
   "source": [
    "Nx = 1000\n",
    "Ny = 1000\n",
    "sandpile = np.zeros(shape=(Ny,Nx))\n",
    "# dinamic thresholding for sand pile\n",
    "Ndin = 3\n",
    "domain = np.random.randint(1, Ndin+1,(Nx,Ny))\n",
    "delta_grao = 2\n",
    "T = 200\n",
    "S = []\n",
    "count = 0\n",
    "# 1 Locus por vez\n",
    "#TODO - varios locus por vez\n",
    "Num_update_input = 1\n",
    "\n",
    "diff = np.zeros(shape=(Nx,Ny))\n",
    "\n",
    "for t in range(T):\n",
    "\n",
    "  add_grao = np.random.randint(1,delta_grao+1,Num_update_input)\n",
    "\n",
    "  #atualiza\n",
    "  for i in range(Num_update_input):\n",
    "    x,y = (np.random.randint(1, Nx+1),np.random.randint(1,Ny+1))\n",
    "    domain[x,y]= domain[x,y]+add_grao[i]\n",
    "    diff[x,y]=domain[x,y]-Ndin\n",
    "    count = 0\n",
    "    \n",
    "    #redistribui graos se atinge thresholding\n",
    "    while (diff > 0).any():\n",
    "      count += 1\n",
    "      indexdiff = np.where(diff>0)[0]\n",
    "\n",
    "      for j in range(len(indexdiff)):\n",
    "        domain[indexdiff[j,0],indexdiff[j,1]] = domain[indexdiff[j,0],indexdiff[j,1]] - diff[indexdiff[j,0],indexdiff[j,1]]\n",
    "\n",
    "        for z in range(len(diff[indexdiff[j,0],indexdiff[j,1]])):          \n",
    "          #Nradius = 2           \n",
    "          point = np.random.randint(0,5,(2))+np.array([indexdiff[j,0],indexdiff[j,1]])-np.array([2,2])\n",
    "          while point[0] == indexdiff[j,0] and point[1] == indexdiff[j,1] and point[0] > Nx-1 and point[1] > Ny-1 and point[0] < 0 and point[1] < 0:\n",
    "            point = np.random.randint(0,5,(2))+np.array([indexdiff[j,0],indexdiff[j,1]])-np.array([2,2])\n",
    "            \n",
    "          domain[point[0],point[1]] = domain[point[0],point[1]] + 1    \n",
    "      \n",
    "      S.append(count)\n",
    "\n",
    "\n",
    "\n",
    "\n",
    "    \n"
   ]
  }
 ],
 "metadata": {
  "kernelspec": {
   "display_name": "Python 2",
   "language": "python",
   "name": "python2"
  },
  "language_info": {
   "codemirror_mode": {
    "name": "ipython",
    "version": 2
   },
   "file_extension": ".py",
   "mimetype": "text/x-python",
   "name": "python",
   "nbconvert_exporter": "python",
   "pygments_lexer": "ipython2",
   "version": "2.7.16"
  },
  "toc": {
   "base_numbering": 1,
   "nav_menu": {},
   "number_sections": true,
   "sideBar": true,
   "skip_h1_title": true,
   "title_cell": "Table of Contents",
   "title_sidebar": "Contents",
   "toc_cell": true,
   "toc_position": {},
   "toc_section_display": true,
   "toc_window_display": false
  }
 },
 "nbformat": 4,
 "nbformat_minor": 2
}
